{
 "cells": [
  {
   "cell_type": "markdown",
   "metadata": {},
   "source": [
    "# Transfer Learning on Stack Exchange Tags Main Program\n",
    "-----"
   ]
  },
  {
   "cell_type": "markdown",
   "metadata": {},
   "source": [
    "#### Todo List\n",
    "- 本地验证：每个主题做验证，或者全部数据做验证\n",
    "- 尝试 TFIDF\n",
    "---"
   ]
  },
  {
   "cell_type": "code",
   "execution_count": 1,
   "metadata": {
    "collapsed": false
   },
   "outputs": [
    {
     "name": "stdout",
     "output_type": "stream",
     "text": [
      "biology.csv  cooking.csv  crypto.csv  diy.csv  robotics.csv  travel.csv\r\n"
     ]
    }
   ],
   "source": [
    "!ls dataset/train/"
   ]
  },
  {
   "cell_type": "code",
   "execution_count": 1,
   "metadata": {
    "collapsed": true
   },
   "outputs": [
    {
     "name": "stdout",
     "output_type": "stream",
     "text": [
      "\"id\",\"title\",\"content\",\"tags\"\r\n",
      "\"1\",\"What are some Caribbean cruises for October?\",\"<p>My fiancée and I are looking for a good Caribbean cruise in October and were wondering which islands are best to see and which Cruise line to take?</p>\r\n",
      "\r\n",
      "<p>It seems like a lot of the cruises don't run in this month due to Hurricane season so I'm looking for other good options.</p>\r\n",
      "\r\n",
      "<p><strong>EDIT</strong> We'll be travelling in 2012.</p>\r\n",
      "\",\"caribbean cruising vacations\"\r\n",
      "\"2\",\"How can I find a guide that will take me safely through the Amazon jungle?\",\"<p>This was one of our definition questions, but also one that interests me personally: How can I find a guide that will take me safely through the Amazon jungle? I'd love to explore the Amazon but would not attempt it without a guide, at least not the first time. And I'd prefer a guide that wasn't going to ambush me or anything :P</p>\r\n",
      "\r\n",
      "<p><strong>Edit:</strong> I don't want to go anywhere \"\"touristy\"\".  Start and end points are open, but the trip should take me places where I am not likely to see other travellers / tourists and where I will definitely require a good guide in order to be safe.</p>\r\n"
     ]
    }
   ],
   "source": [
    "!head dataset/train/travel.csv"
   ]
  },
  {
   "cell_type": "code",
   "execution_count": 22,
   "metadata": {
    "collapsed": false
   },
   "outputs": [
    {
     "name": "stdout",
     "output_type": "stream",
     "text": [
      "Automatic pdb calling has been turned ON\n",
      "FEATURES_TYPE: tf\n",
      "TOP_WORDS: 3\n",
      "COLUMNS: ['content']\n"
     ]
    }
   ],
   "source": [
    "%pdb 1\n",
    "import matplotlib.pyplot as plt\n",
    "%matplotlib inline\n",
    "%run helper/data_util_func.py"
   ]
  },
  {
   "cell_type": "markdown",
   "metadata": {},
   "source": [
    "-----\n",
    "## 1 加载数据"
   ]
  },
  {
   "cell_type": "markdown",
   "metadata": {},
   "source": [
    "**travel.csv**"
   ]
  },
  {
   "cell_type": "code",
   "execution_count": 2,
   "metadata": {
    "collapsed": false
   },
   "outputs": [],
   "source": [
    "train_travel_df = load_data('dataset/train/travel.csv')"
   ]
  },
  {
   "cell_type": "markdown",
   "metadata": {},
   "source": [
    "**biology.csv**"
   ]
  },
  {
   "cell_type": "code",
   "execution_count": 2,
   "metadata": {
    "collapsed": false
   },
   "outputs": [],
   "source": [
    "train_biology_df = load_data('dataset/train/biology.csv')"
   ]
  },
  {
   "cell_type": "markdown",
   "metadata": {},
   "source": [
    "**test.csv**"
   ]
  },
  {
   "cell_type": "code",
   "execution_count": 2,
   "metadata": {
    "collapsed": false
   },
   "outputs": [],
   "source": [
    "test_df = load_data('dataset/test/test.csv')"
   ]
  },
  {
   "cell_type": "code",
   "execution_count": 16,
   "metadata": {
    "collapsed": true
   },
   "outputs": [
    {
     "name": "stdout",
     "output_type": "stream",
     "text": [
      "   id                                              title  \\\n",
      "0   1       What are some Caribbean cruises for October?   \n",
      "1   2  How can I find a guide that will take me safel...   \n",
      "2   4  Does Singapore Airlines offer any reward seats...   \n",
      "3   5  What is the easiest transportation to use thro...   \n",
      "4   6                        How can I visit Antarctica?   \n",
      "\n",
      "                                             content  \\\n",
      "0  <p>My fiancée and I are looking for a good Car...   \n",
      "1  <p>This was one of our definition questions, b...   \n",
      "2  <p>Singapore Airlines has an all-business clas...   \n",
      "3  <p>Another definition question that interested...   \n",
      "4  <p>A year ago I was reading some magazine, and...   \n",
      "\n",
      "                                                tags  \n",
      "0                       caribbean cruising vacations  \n",
      "1  guides extreme-tourism amazon-river amazon-jungle  \n",
      "2  loyalty-programs routes ewr singapore-airlines...  \n",
      "3                             romania transportation  \n",
      "4                         extreme-tourism antarctica  \n",
      "<class 'pandas.core.frame.DataFrame'>\n",
      "RangeIndex: 19279 entries, 0 to 19278\n",
      "Data columns (total 4 columns):\n",
      "id         19279 non-null int64\n",
      "title      19279 non-null object\n",
      "content    19279 non-null object\n",
      "tags       19279 non-null object\n",
      "dtypes: int64(1), object(3)\n",
      "memory usage: 602.5+ KB\n",
      "None\n"
     ]
    }
   ],
   "source": [
    "show_df_info(data_travel_df)"
   ]
  },
  {
   "cell_type": "code",
   "execution_count": 49,
   "metadata": {
    "collapsed": true
   },
   "outputs": [
    {
     "data": {
      "text/html": [
       "<div>\n",
       "<table border=\"1\" class=\"dataframe\">\n",
       "  <thead>\n",
       "    <tr style=\"text-align: right;\">\n",
       "      <th></th>\n",
       "      <th>id</th>\n",
       "      <th>title</th>\n",
       "      <th>content</th>\n",
       "      <th>tags</th>\n",
       "    </tr>\n",
       "  </thead>\n",
       "  <tbody>\n",
       "    <tr>\n",
       "      <th>0</th>\n",
       "      <td>1</td>\n",
       "      <td>What is spin as it relates to subatomic partic...</td>\n",
       "      <td>&lt;p&gt;I often hear about subatomic particles havi...</td>\n",
       "      <td>physics</td>\n",
       "    </tr>\n",
       "    <tr>\n",
       "      <th>1</th>\n",
       "      <td>2</td>\n",
       "      <td>What is your simplest explanation of the strin...</td>\n",
       "      <td>&lt;p&gt;How would you explain string theory to non ...</td>\n",
       "      <td>physics</td>\n",
       "    </tr>\n",
       "    <tr>\n",
       "      <th>2</th>\n",
       "      <td>3</td>\n",
       "      <td>Lie theory, Representations and particle physics</td>\n",
       "      <td>&lt;p&gt;This is a question that has been posted at ...</td>\n",
       "      <td>physics</td>\n",
       "    </tr>\n",
       "    <tr>\n",
       "      <th>3</th>\n",
       "      <td>7</td>\n",
       "      <td>Will Determinism be ever possible?</td>\n",
       "      <td>&lt;p&gt;What are the main problems that we need to ...</td>\n",
       "      <td>physics</td>\n",
       "    </tr>\n",
       "    <tr>\n",
       "      <th>4</th>\n",
       "      <td>9</td>\n",
       "      <td>Hamilton's Principle</td>\n",
       "      <td>&lt;p&gt;Hamilton's principle states that a dynamic ...</td>\n",
       "      <td>physics</td>\n",
       "    </tr>\n",
       "  </tbody>\n",
       "</table>\n",
       "</div>"
      ],
      "text/plain": [
       "   id                                              title  \\\n",
       "0   1  What is spin as it relates to subatomic partic...   \n",
       "1   2  What is your simplest explanation of the strin...   \n",
       "2   3   Lie theory, Representations and particle physics   \n",
       "3   7                 Will Determinism be ever possible?   \n",
       "4   9                               Hamilton's Principle   \n",
       "\n",
       "                                             content     tags  \n",
       "0  <p>I often hear about subatomic particles havi...  physics  \n",
       "1  <p>How would you explain string theory to non ...  physics  \n",
       "2  <p>This is a question that has been posted at ...  physics  \n",
       "3  <p>What are the main problems that we need to ...  physics  \n",
       "4  <p>Hamilton's principle states that a dynamic ...  physics  "
      ]
     },
     "execution_count": 49,
     "metadata": {},
     "output_type": "execute_result"
    }
   ],
   "source": [
    "test_df.head()"
   ]
  },
  {
   "cell_type": "markdown",
   "metadata": {},
   "source": [
    "---\n",
    "## 2 开始建模"
   ]
  },
  {
   "cell_type": "markdown",
   "metadata": {},
   "source": [
    "### 统一跑"
   ]
  },
  {
   "cell_type": "code",
   "execution_count": 23,
   "metadata": {
    "collapsed": true
   },
   "outputs": [
    {
     "name": "stdout",
     "output_type": "stream",
     "text": [
      "分类器方法：tf\n",
      "TOP_WORDS: 3\n",
      "COLUMNS: ['content']\n",
      "--------------------------------------------------------------------------------\n",
      "data name: biology , 数量：13196\n",
      "字典大小： 36022\n",
      "precision_score：0.049560,recall_score：0.062187,f1_score：0.052111\n",
      "--------------------------------------------------------------------------------\n",
      "data name: cooking , 数量：15404\n",
      "字典大小： 23674\n",
      "precision_score：0.182463,recall_score：0.252216,f1_score：0.201152\n",
      "--------------------------------------------------------------------------------\n",
      "data name: crypto , 数量：10432\n",
      "字典大小： 25998\n",
      "precision_score：0.073140,recall_score：0.093625,f1_score：0.077872\n",
      "--------------------------------------------------------------------------------\n",
      "data name: diy , 数量：25918\n",
      "字典大小： 29350\n",
      "precision_score：0.124521,recall_score：0.164855,f1_score：0.134328\n",
      "--------------------------------------------------------------------------------\n",
      "data name: robotics , 数量：2771\n",
      "字典大小： 14732\n",
      "precision_score：0.077950,recall_score：0.109166,f1_score：0.085485\n",
      "--------------------------------------------------------------------------------\n",
      "data name: travel , 数量：19279\n",
      "字典大小： 30555\n",
      "precision_score：0.104086,recall_score：0.093725,f1_score：0.095663\n"
     ]
    }
   ],
   "source": [
    "classifier_agent()"
   ]
  },
  {
   "cell_type": "markdown",
   "metadata": {},
   "source": [
    "### 2-1 词频/TF-IDF统计方法"
   ]
  },
  {
   "cell_type": "markdown",
   "metadata": {},
   "source": [
    "### 分步骤跑"
   ]
  },
  {
   "cell_type": "markdown",
   "metadata": {},
   "source": [
    "#### 2-1-1 travel"
   ]
  },
  {
   "cell_type": "markdown",
   "metadata": {},
   "source": [
    "##### 2-1-1-1造特征"
   ]
  },
  {
   "cell_type": "code",
   "execution_count": 3,
   "metadata": {
    "collapsed": true
   },
   "outputs": [
    {
     "name": "stdout",
     "output_type": "stream",
     "text": [
      "19279\n",
      "CPU times: user 7.65 s, sys: 1.04 s, total: 8.69 s\n",
      "Wall time: 8.66 s\n"
     ]
    }
   ],
   "source": [
    "%%time\n",
    "train_X = feature_encoder.fit_transform(\n",
    "    train_travel_df\n",
    ")\n",
    "train_y = train_travel_df['tags']\n",
    "print len(train_y)"
   ]
  },
  {
   "cell_type": "code",
   "execution_count": 11,
   "metadata": {
    "collapsed": true
   },
   "outputs": [
    {
     "data": {
      "text/plain": [
       "u\"<p>My fianc\\xe9e and I are looking for a good Caribbean cruise in October and were wondering which islands are best to see and which Cruise line to take?</p>\\n\\n<p>It seems like a lot of the cruises don't run in this month due to Hurricane season so I'm looking for other good options.</p>\\n\\n<p><strong>EDIT</strong> We'll be travelling in 2012.</p>\\n\""
      ]
     },
     "execution_count": 11,
     "metadata": {},
     "output_type": "execute_result"
    }
   ],
   "source": [
    "train_travel_df['content'].iloc[0]"
   ]
  },
  {
   "cell_type": "code",
   "execution_count": 14,
   "metadata": {
    "collapsed": false
   },
   "outputs": [
    {
     "data": {
      "text/plain": [
       "array([2, 2, 2, 2, 2, 2])"
      ]
     },
     "execution_count": 14,
     "metadata": {},
     "output_type": "execute_result"
    }
   ],
   "source": [
    "train_X[0][[train_X[0]==2]]"
   ]
  },
  {
   "cell_type": "code",
   "execution_count": 15,
   "metadata": {
    "collapsed": false
   },
   "outputs": [
    {
     "data": {
      "text/plain": [
       "array([u'caribbean', u'cruise', u'cruises', u'good', u'looking', u'october'], \n",
       "      dtype='<U33')"
      ]
     },
     "execution_count": 15,
     "metadata": {},
     "output_type": "execute_result"
    }
   ],
   "source": [
    "feature_encoder.feature_names[[train_X[0]==2]]"
   ]
  },
  {
   "cell_type": "code",
   "execution_count": 4,
   "metadata": {
    "collapsed": false
   },
   "outputs": [
    {
     "data": {
      "text/plain": [
       "u'caribbean cruising vacations'"
      ]
     },
     "execution_count": 4,
     "metadata": {},
     "output_type": "execute_result"
    }
   ],
   "source": [
    "train_y[0]"
   ]
  },
  {
   "cell_type": "markdown",
   "metadata": {},
   "source": [
    "##### 2-1-1-2 结果"
   ]
  },
  {
   "cell_type": "code",
   "execution_count": 18,
   "metadata": {
    "collapsed": false
   },
   "outputs": [
    {
     "name": "stdout",
     "output_type": "stream",
     "text": [
      "precision_score：0.136366,recall_score：0.165785,f1_score：0.145045\n"
     ]
    }
   ],
   "source": [
    "train_pred_y = classifier.predict(\n",
    "    train_X,train_y,\n",
    "    feature_names=feature_encoder.feature_names,\n",
    "    top_words=4\n",
    ")"
   ]
  },
  {
   "cell_type": "code",
   "execution_count": 17,
   "metadata": {
    "collapsed": true
   },
   "outputs": [
    {
     "data": {
      "text/plain": [
       "[u'good october cruises cruise looking',\n",
       " u'travellers jungle safely amazon guide',\n",
       " u'reward ewr sin airlines singapore',\n",
       " u'easiest foreigner interested romania use',\n",
       " u'feedback maybe unfortunately best antarctica']"
      ]
     },
     "execution_count": 17,
     "metadata": {},
     "output_type": "execute_result"
    }
   ],
   "source": [
    "train_pred_y[:5]"
   ]
  },
  {
   "cell_type": "code",
   "execution_count": 19,
   "metadata": {
    "collapsed": false
   },
   "outputs": [],
   "source": [
    "train_travel_df['pred'] = train_pred_y"
   ]
  },
  {
   "cell_type": "code",
   "execution_count": 20,
   "metadata": {
    "collapsed": false
   },
   "outputs": [],
   "source": [
    "save_data(\n",
    "    train_travel_df[['id','tags','pred']],\n",
    "    'travel-%s.csv'%FEATURES_TYPE\n",
    ")"
   ]
  },
  {
   "cell_type": "markdown",
   "metadata": {},
   "source": [
    "#### 2-1-2 biology"
   ]
  },
  {
   "cell_type": "markdown",
   "metadata": {},
   "source": [
    "##### 2-1-2-1造特征"
   ]
  },
  {
   "cell_type": "code",
   "execution_count": 3,
   "metadata": {
    "collapsed": false
   },
   "outputs": [
    {
     "name": "stdout",
     "output_type": "stream",
     "text": [
      "13196\n",
      "CPU times: user 1.94 s, sys: 36 ms, total: 1.98 s\n",
      "Wall time: 1.97 s\n"
     ]
    }
   ],
   "source": [
    "%%time\n",
    "train_X = feature_encoder.fit_transform(\n",
    "    train_biology_df\n",
    ")\n",
    "train_y = train_biology_df['tags']\n",
    "print len(train_X)"
   ]
  },
  {
   "cell_type": "code",
   "execution_count": 4,
   "metadata": {
    "collapsed": false
   },
   "outputs": [
    {
     "data": {
      "text/plain": [
       "u'ribosome binding-sites translation synthetic-biology'"
      ]
     },
     "execution_count": 4,
     "metadata": {},
     "output_type": "execute_result"
    }
   ],
   "source": [
    "train_y[0]"
   ]
  },
  {
   "cell_type": "code",
   "execution_count": 6,
   "metadata": {
    "collapsed": true
   },
   "outputs": [
    {
     "data": {
      "text/plain": [
       "[u'translation start',\n",
       " u'rnase rna',\n",
       " u'lymphocytes diameter',\n",
       " u'lb selection',\n",
       " u'splicing cases']"
      ]
     },
     "execution_count": 6,
     "metadata": {},
     "output_type": "execute_result"
    }
   ],
   "source": [
    "train_pred_y[:5]"
   ]
  },
  {
   "cell_type": "markdown",
   "metadata": {},
   "source": [
    "##### 2-1-2-2 结果"
   ]
  },
  {
   "cell_type": "code",
   "execution_count": 5,
   "metadata": {
    "collapsed": false
   },
   "outputs": [
    {
     "name": "stdout",
     "output_type": "stream",
     "text": [
      "precision_score：0.073621,recall_score：0.063517,f1_score：0.064238\n"
     ]
    }
   ],
   "source": [
    "train_pred_y = classifier.predict(\n",
    "    train_X,train_y\n",
    ")"
   ]
  },
  {
   "cell_type": "markdown",
   "metadata": {},
   "source": [
    "### 测试"
   ]
  },
  {
   "cell_type": "markdown",
   "metadata": {},
   "source": [
    "##### 1造特征"
   ]
  },
  {
   "cell_type": "code",
   "execution_count": 11,
   "metadata": {
    "collapsed": false
   },
   "outputs": [
    {
     "name": "stdout",
     "output_type": "stream",
     "text": [
      "CPU times: user 44.7 s, sys: 724 ms, total: 45.5 s\n",
      "Wall time: 45.3 s\n"
     ]
    }
   ],
   "source": [
    "%%time\n",
    "test_X = feature_encoder.fit_transform(\n",
    "    test_df\n",
    ")"
   ]
  },
  {
   "cell_type": "markdown",
   "metadata": {},
   "source": [
    "##### 2 结果"
   ]
  },
  {
   "cell_type": "code",
   "execution_count": 12,
   "metadata": {
    "collapsed": false
   },
   "outputs": [
    {
     "name": "stdout",
     "output_type": "stream",
     "text": [
      "字典大小： 61895\n",
      "CPU times: user 2min 4s, sys: 140 ms, total: 2min 4s\n",
      "Wall time: 2min 4s\n"
     ]
    }
   ],
   "source": [
    "%%time\n",
    "test_pred_y = classifier.predict(\n",
    "    test_X,None,\n",
    "    verbose=1,\n",
    "    feature_names=feature_encoder.feature_names,\n",
    "    top_words=4\n",
    ")"
   ]
  },
  {
   "cell_type": "code",
   "execution_count": 13,
   "metadata": {
    "collapsed": false
   },
   "outputs": [
    {
     "data": {
      "text/plain": [
       "[u'particles spinning subatomic spin',\n",
       " u'theory successfully specially string',\n",
       " u'care lie acting group',\n",
       " u'uncertainty overcome laplace determinism',\n",
       " u'action stationary principle hamilton']"
      ]
     },
     "execution_count": 13,
     "metadata": {},
     "output_type": "execute_result"
    }
   ],
   "source": [
    "test_pred_y[:5]"
   ]
  },
  {
   "cell_type": "code",
   "execution_count": 14,
   "metadata": {
    "collapsed": false
   },
   "outputs": [],
   "source": [
    "test_df['tags'] = test_pred_y"
   ]
  },
  {
   "cell_type": "code",
   "execution_count": 16,
   "metadata": {
    "collapsed": true
   },
   "outputs": [],
   "source": [
    "save_data(\n",
    "    test_df[['id','tags']],\n",
    "    'submit-%s-top%d.csv'%(FEATURES_TYPE,TOP_WORDS)\n",
    ")"
   ]
  },
  {
   "cell_type": "code",
   "execution_count": 188,
   "metadata": {
    "collapsed": false
   },
   "outputs": [
    {
     "data": {
      "text/plain": [
       "u'Nano-particle or Molecule?'"
      ]
     },
     "execution_count": 188,
     "metadata": {},
     "output_type": "execute_result"
    }
   ],
   "source": [
    "test_df['title'].iloc[168]"
   ]
  },
  {
   "cell_type": "code",
   "execution_count": 213,
   "metadata": {
    "collapsed": true
   },
   "outputs": [
    {
     "data": {
      "text/plain": [
       "[u'polywell',\n",
       " u'proposed',\n",
       " u'new',\n",
       " u'type',\n",
       " u'fusion',\n",
       " u'reactor',\n",
       " u'designed',\n",
       " u'use',\n",
       " u'magnetic',\n",
       " u'fields',\n",
       " u'overcome',\n",
       " u'problems',\n",
       " u'elmore',\n",
       " u'tuck',\n",
       " u'watson',\n",
       " u'fusor',\n",
       " u'trying',\n",
       " u'understand',\n",
       " u'exactly',\n",
       " u'works',\n",
       " u'elmore',\n",
       " u'tuck',\n",
       " u'watson',\n",
       " u'fusor',\n",
       " u'consists',\n",
       " u'vacuum',\n",
       " u'chamber',\n",
       " u'containing',\n",
       " u'negatively',\n",
       " u'charged',\n",
       " u'outer',\n",
       " u'grid',\n",
       " u'chamber',\n",
       " u'positively',\n",
       " u'charged',\n",
       " u'inner',\n",
       " u'grid',\n",
       " u'electrons',\n",
       " u'injected',\n",
       " u'accelerated',\n",
       " u'inner',\n",
       " u'grid',\n",
       " u'time',\n",
       " u'electrons',\n",
       " u'pass',\n",
       " u'grid',\n",
       " u'core',\n",
       " u'inner',\n",
       " u'grid',\n",
       " u'decelerates',\n",
       " u'reaccelerates',\n",
       " u'inward',\n",
       " u'return',\n",
       " u'core',\n",
       " u'pass',\n",
       " u'repeatedly',\n",
       " u'core',\n",
       " u'generate',\n",
       " u'negatively',\n",
       " u'charged',\n",
       " u'zone',\n",
       " u'potential',\n",
       " u'called',\n",
       " u'virtual',\n",
       " u'cathode',\n",
       " u'question',\n",
       " u'device',\n",
       " u'uses',\n",
       " u'constant',\n",
       " u'high',\n",
       " u'voltage',\n",
       " u'applied',\n",
       " u'electrodes',\n",
       " u'produce',\n",
       " u'region',\n",
       " u'negative',\n",
       " u'electric',\n",
       " u'charge',\n",
       " u'center',\n",
       " u'possible',\n",
       " u'electrons',\n",
       " u'repel',\n",
       " u'creating',\n",
       " u'region',\n",
       " u'space',\n",
       " u'electrons',\n",
       " u'dense',\n",
       " u'surroundings',\n",
       " u'require',\n",
       " u'constant',\n",
       " u'energy',\n",
       " u'input',\n",
       " u'energy',\n",
       " u'input',\n",
       " u'just',\n",
       " u'fly',\n",
       " u'apart',\n",
       " u'minimum',\n",
       " u'energy',\n",
       " u'equilibrium',\n",
       " u'charge',\n",
       " u'density',\n",
       " u'equal',\n",
       " u'applying',\n",
       " u'voltage',\n",
       " u'electrodes',\n",
       " u'current',\n",
       " u'flowing',\n",
       " u'use',\n",
       " u'energy',\n",
       " u'energy',\n",
       " u'hold',\n",
       " u'clump',\n",
       " u'electrons',\n",
       " u'coming',\n",
       " u'like',\n",
       " u'elmore',\n",
       " u'tuck',\n",
       " u'watson',\n",
       " u'etw',\n",
       " u'fusor',\n",
       " u'polywell',\n",
       " u'confines',\n",
       " u'positive',\n",
       " u'ions',\n",
       " u'attraction',\n",
       " u'negative',\n",
       " u'potential',\n",
       " u'created',\n",
       " u'electrons',\n",
       " u'held',\n",
       " u'inside',\n",
       " u'positively',\n",
       " u'charged',\n",
       " u'grid',\n",
       " u'avoid',\n",
       " u'losses',\n",
       " u'related',\n",
       " u'electrons',\n",
       " u'striking',\n",
       " u'grid',\n",
       " u'polywell',\n",
       " u'uses',\n",
       " u'magnetic',\n",
       " u'fields',\n",
       " u'shield',\n",
       " u'grid',\n",
       " u'magnetic',\n",
       " u'fields',\n",
       " u'configured',\n",
       " u'way',\n",
       " u'adds',\n",
       " u'confinement',\n",
       " u'electrons',\n",
       " u'electrons',\n",
       " u'inside',\n",
       " u'core',\n",
       " u'outside',\n",
       " u'question',\n",
       " u'magnetic',\n",
       " u'fields',\n",
       " u'generated',\n",
       " u'grid',\n",
       " u'supposedly',\n",
       " u'prevent',\n",
       " u'electrons',\n",
       " u'hitting',\n",
       " u'grid',\n",
       " u'positively',\n",
       " u'charged',\n",
       " u'inner',\n",
       " u'grid',\n",
       " u'attractive',\n",
       " u'electrons',\n",
       " u'magnetized',\n",
       " u'magnetic',\n",
       " u'fields',\n",
       " u'repel',\n",
       " u'electrons',\n",
       " u'away',\n",
       " u'grid',\n",
       " u'unchanging',\n",
       " u'steady',\n",
       " u'state',\n",
       " u'magnets',\n",
       " u'confine',\n",
       " u'repel',\n",
       " u'electrons',\n",
       " u'bar',\n",
       " u'magnet',\n",
       " u'create',\n",
       " u'kind',\n",
       " u'movement',\n",
       " u'displacement',\n",
       " u'charge']"
      ]
     },
     "execution_count": 213,
     "metadata": {},
     "output_type": "execute_result"
    }
   ],
   "source": [
    "clean_text(test_df['content'].iloc[193])"
   ]
  }
 ],
 "metadata": {
  "kernelspec": {
   "display_name": "Python 2",
   "language": "python",
   "name": "python2"
  },
  "language_info": {
   "codemirror_mode": {
    "name": "ipython",
    "version": 2
   },
   "file_extension": ".py",
   "mimetype": "text/x-python",
   "name": "python",
   "nbconvert_exporter": "python",
   "pygments_lexer": "ipython2",
   "version": "2.7.6"
  }
 },
 "nbformat": 4,
 "nbformat_minor": 1
}
